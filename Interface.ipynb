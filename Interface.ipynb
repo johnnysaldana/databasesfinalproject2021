{
 "cells": [
  {
   "cell_type": "code",
   "execution_count": null,
   "metadata": {},
   "outputs": [],
   "source": [
    "# ask user whether already have account or not\n",
    "account = input(\"Hello! Do you already have an account? (y/n): \")\n",
    "\n",
    "# if user answers \"y\" prompt to login (email), if answer is \"n\" prompt to include new user info \n",
    "if account == 'y':\n",
    "    in_email = input(\"Enter email: \")\n",
    "    # Johnny: call stored procedure that gets name of user - include output that says \"Welcome (firstname, lastname)\"\n",
    "elif account == 'n':\n",
    "    fname = input(\"Enter first name: \")\n",
    "    lname = input(\"Enter last name: \")\n",
    "    new_email = input(\"Enter email (ex. firstname123@gmail.com): \")\n",
    "    # Johnny: call stored procedure that inputs new user into our data table Users"
   ]
  },
  {
   "cell_type": "code",
   "execution_count": 12,
   "metadata": {},
   "outputs": [],
   "source": [
    "chosen_function = input(\"\"\"Choose a function and enter its number: \\n \n",
    "[1] Create and save a graph of all close prices to date for desired stock\n",
    "[2] Compare the close prices for 2 stocks (graph, correlation)\n",
    "[3] Graph all close prices for all stocks in desired sector\n",
    "[4] Graph and save 10 day historical high prices for desired stock dating 10 days back from desired date\n",
    "[5] Graph the high price for the stock with the highest normalized close price for desired sector \\n\"\"\")\n",
    "\n",
    "if float(chosen_function) == 1:\n",
    "    stock_ticker_name = input(\"Input stock ticker name (ex. AAPL): \")\n",
    "    # Johnny: call stored procedure that returns close prices for specified stock name and plot\n",
    "elif float(chosen_function) == 2:\n",
    "    stock_ticker_name_1 = input(\"Input first stock ticker name (ex. AAPL): \")\n",
    "    stock_ticker_name_2 = input(\"Input second stock ticker name (ex. AMZN): \")\n",
    "    # Johnny: call stored procedure that returns close prices for both specified stocks, plot and correlate\n",
    "elif float(chosen_function) == 3:\n",
    "    sector_name = input(\"Input sector name (tech, healthcare, finance)\")\n",
    "    # Johnny: call stored procedure that returns close prices for all stocks under the specified sector\n",
    "elif float(chosen_function) == 4:\n",
    "    stock_ticker_name = input(\"Input stocker ticker name (ex. AAPL): \")\n",
    "    end_date = input(\"Input end date for 10 day historical (YYYY-MM-DD): \")\n",
    "    # Johnny: call stored procedure that returns high prices for the past 10 days for given stock and date to end\n",
    "elif float(chosen_function) == 5:\n",
    "    stock_ticker_name = input(\"Input sector name (tech, healthcare, finance): \")\n",
    "    # Johnny: call stored procedure that returns the high prices for the stock that had the highest normalized close in the given sector\n",
    "\n",
    "    # called stored procedure or backend function that returns data needed for each of the 5 functionality options"
   ]
  }
 ],
 "metadata": {
  "kernelspec": {
   "display_name": "Python 3",
   "language": "python",
   "name": "python3"
  },
  "language_info": {
   "codemirror_mode": {
    "name": "ipython",
    "version": 3
   },
   "file_extension": ".py",
   "mimetype": "text/x-python",
   "name": "python",
   "nbconvert_exporter": "python",
   "pygments_lexer": "ipython3",
   "version": "3.6.8"
  }
 },
 "nbformat": 4,
 "nbformat_minor": 2
}
