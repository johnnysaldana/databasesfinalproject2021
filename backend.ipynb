{
 "cells": [
  {
   "cell_type": "code",
   "execution_count": 34,
   "id": "2f3b4eb1-2064-42f3-b829-76c29e5165a0",
   "metadata": {},
   "outputs": [],
   "source": [
    "import pandas as pd\n",
    "# Need to pip install fastparquet\n",
    "import fastparquet\n",
    "# Need to pip install pymysql\n",
    "import pymysql\n",
    "from sshtunnel import SSHTunnelForwarder\n",
    "from sqlalchemy import create_engine"
   ]
  },
  {
   "cell_type": "code",
   "execution_count": 24,
   "id": "d1fa7e47-8a8f-4fe1-8752-e701ab301091",
   "metadata": {},
   "outputs": [],
   "source": [
    "ssh_host = 'ugrad7.cs.jhu.edu'\n",
    "ssh_username = 'jsaldan1'\n",
    "ssh_password = 'tank spoon notice'\n",
    "database_username = '21fa_jsaldan1'\n",
    "database_password = 'sQ45R6l8QT'\n",
    "database_name = '21fa_jsaldan1_db'\n",
    "localhost = '127.0.0.1'\n",
    "\n",
    "def open_ssh_tunnel(verbose=False):\n",
    "    \"\"\"Open an SSH tunnel and connect using a username and password.\n",
    "    \n",
    "    :param verbose: Set to True to show logging\n",
    "    :return tunnel: Global SSH tunnel connection\n",
    "    \"\"\"\n",
    "    \n",
    "    if verbose:\n",
    "        sshtunnel.DEFAULT_LOGLEVEL = logging.DEBUG\n",
    "    \n",
    "    global tunnel\n",
    "    tunnel = SSHTunnelForwarder(\n",
    "        (ssh_host, 22),\n",
    "        ssh_username = ssh_username,\n",
    "        ssh_password = ssh_password,\n",
    "        remote_bind_address = ('127.0.0.1', 3306)\n",
    "    )\n",
    "    \n",
    "    tunnel.start()"
   ]
  },
  {
   "cell_type": "code",
   "execution_count": 33,
   "id": "6a6b11ca-f1ec-4542-9bfe-26c8141748ad",
   "metadata": {},
   "outputs": [
    {
     "data": {
      "text/plain": [
       "<class 'sshtunnel.SSHTunnelForwarder'> object\n",
       "ssh gateway: ugrad7.cs.jhu.edu:22\n",
       "proxy: no\n",
       "username: jsaldan1\n",
       "authentication: {'password': 'tank spoon notice', 'pkeys': [('ssh-rsa', b'd93fe6a320bd796e45331796e52795b3')]}\n",
       "hostkey: not checked\n",
       "status: not started\n",
       "keepalive messages: every 5.0 sec\n",
       "tunnel connection check: disabled\n",
       "concurrent connections: allowed\n",
       "compression: not requested\n",
       "logging level: ERROR\n",
       "local binds: [('0.0.0.0', 0)]\n",
       "remote binds: [('127.0.0.1', 3306)]"
      ]
     },
     "execution_count": 33,
     "metadata": {},
     "output_type": "execute_result"
    }
   ],
   "source": [
    "# open ssh tunnel and use the 'tunnel' variable to configure/start/stop server operations\n",
    "open_ssh_tunnel()\n"
   ]
  },
  {
   "cell_type": "code",
   "execution_count": 25,
   "id": "e84ea443-e596-4cde-964d-cd434592f858",
   "metadata": {},
   "outputs": [],
   "source": [
    "open_ssh_tunnel()\n",
    "\n",
    "\n",
    "\"\"\"user: root\n",
    "pswd: password\"\"\""
   ]
  },
  {
   "cell_type": "code",
   "execution_count": 38,
   "id": "848bef3e-8894-43d7-8dd2-7c7aadd0f8c1",
   "metadata": {},
   "outputs": [],
   "source": [
    "df = pd.read_parquet(\"data/AMZN_1min.parquet\", engine='fastparquet')"
   ]
  },
  {
   "cell_type": "code",
   "execution_count": 43,
   "id": "03e29945-583f-467b-a2c6-e5f1d0ad30f1",
   "metadata": {},
   "outputs": [],
   "source": [
    "df = df[-10000:]"
   ]
  },
  {
   "cell_type": "code",
   "execution_count": 44,
   "id": "9d35cedc-b22e-4a14-9d4d-ef5a9faf1a23",
   "metadata": {},
   "outputs": [],
   "source": [
    "df.to_csv('AMZN.csv')"
   ]
  },
  {
   "cell_type": "code",
   "execution_count": null,
   "id": "4e703d00-0f58-453f-8946-0d9e563538a0",
   "metadata": {},
   "outputs": [],
   "source": []
  }
 ],
 "metadata": {
  "kernelspec": {
   "display_name": "Python 3",
   "language": "python",
   "name": "python3"
  },
  "language_info": {
   "codemirror_mode": {
    "name": "ipython",
    "version": 3
   },
   "file_extension": ".py",
   "mimetype": "text/x-python",
   "name": "python",
   "nbconvert_exporter": "python",
   "pygments_lexer": "ipython3",
   "version": "3.9.4"
  }
 },
 "nbformat": 4,
 "nbformat_minor": 5
}
